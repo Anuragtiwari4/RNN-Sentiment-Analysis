{
  "nbformat": 4,
  "nbformat_minor": 0,
  "metadata": {
    "colab": {
      "provenance": []
    },
    "kernelspec": {
      "name": "python3",
      "display_name": "Python 3"
    },
    "language_info": {
      "name": "python"
    }
  },
  "cells": [
    {
      "cell_type": "markdown",
      "source": [
        "## Importing Dataset\n"
      ],
      "metadata": {
        "id": "M5qKw1V-JFC0"
      }
    },
    {
      "cell_type": "code",
      "execution_count": 1,
      "metadata": {
        "id": "vR6C9i-fyLvG"
      },
      "outputs": [],
      "source": [
        "import numpy as np\n",
        "import pandas as pd\n",
        "from sklearn.model_selection import train_test_split\n",
        "from sklearn.preprocessing import LabelEncoder\n",
        "from tensorflow.keras.preprocessing.text import Tokenizer\n",
        "from tensorflow.keras.preprocessing.sequence import pad_sequences\n",
        "from tensorflow.keras.models import Sequential\n",
        "from tensorflow.keras.layers import Embedding, Flatten, Dense"
      ]
    },
    {
      "cell_type": "markdown",
      "source": [
        "## Uploading Dataset"
      ],
      "metadata": {
        "id": "HBgkB8jFJOq8"
      }
    },
    {
      "cell_type": "code",
      "source": [
        "dataset = pd.read_csv('/content/Test.csv')\n",
        "X = dataset['text'].values\n",
        "y = dataset['label'].values"
      ],
      "metadata": {
        "id": "oed4yOfP64i3"
      },
      "execution_count": 3,
      "outputs": []
    },
    {
      "cell_type": "markdown",
      "source": [
        "## Tokenization and Padding"
      ],
      "metadata": {
        "id": "BQYRY807JZLo"
      }
    },
    {
      "cell_type": "code",
      "source": [
        "max_words = 1000\n",
        "tokenizer = Tokenizer(num_words=max_words)\n",
        "tokenizer.fit_on_texts(X)\n",
        "X = tokenizer.texts_to_sequences(X)\n",
        "maxlen = 50\n",
        "X = pad_sequences(X, maxlen=maxlen)"
      ],
      "metadata": {
        "id": "_4NhojWQ66_M"
      },
      "execution_count": 4,
      "outputs": []
    },
    {
      "cell_type": "markdown",
      "source": [
        "## Splitting TestSet and TrainingSet"
      ],
      "metadata": {
        "id": "Pxebmy_xJjaV"
      }
    },
    {
      "cell_type": "code",
      "source": [
        "X_train, X_test, y_train, y_test = train_test_split(X, y, test_size=0.2, random_state=42)"
      ],
      "metadata": {
        "id": "JzCzOKTZ6_-D"
      },
      "execution_count": 5,
      "outputs": []
    },
    {
      "cell_type": "markdown",
      "source": [
        "## Using LSTM"
      ],
      "metadata": {
        "id": "w5RK9LXQJ3nM"
      }
    },
    {
      "cell_type": "code",
      "source": [
        "from keras import Sequential\n",
        "from keras.layers import Dense,SimpleRNN,Embedding,Flatten\n",
        "from keras.preprocessing import sequence\n",
        "from keras.models import Sequential\n",
        "from keras.layers import Embedding, LSTM, Dense\n",
        "from keras.optimizers import Adam"
      ],
      "metadata": {
        "id": "ooYWO2NwoKoQ"
      },
      "execution_count": 6,
      "outputs": []
    },
    {
      "cell_type": "code",
      "source": [
        "model = Sequential()\n",
        "model.add(Embedding(max_words, 128, input_length=maxlen))\n",
        "model.add(LSTM(128, dropout=0.2, recurrent_dropout=0.2))\n",
        "model.add(Dense(1, activation='sigmoid'))\n",
        "\n",
        "\n",
        "model.compile(loss='binary_crossentropy',\n",
        "              optimizer=Adam(learning_rate=0.001),\n",
        "              metrics=['accuracy'])\n",
        "\n",
        "\n",
        "model.fit(X_train, y_train,\n",
        "          batch_size=32,\n",
        "          epochs=3,\n",
        "          validation_data=(X_test, y_test),\n",
        "          verbose=2)"
      ],
      "metadata": {
        "colab": {
          "base_uri": "https://localhost:8080/"
        },
        "id": "5EjOthPDDkPx",
        "outputId": "cdd64ea0-723f-4822-aa44-3bcc7d20d7b3"
      },
      "execution_count": 12,
      "outputs": [
        {
          "output_type": "stream",
          "name": "stdout",
          "text": [
            "Epoch 1/3\n",
            "125/125 - 20s - loss: 0.6286 - accuracy: 0.6518 - val_loss: 0.5029 - val_accuracy: 0.7660 - 20s/epoch - 159ms/step\n",
            "Epoch 2/3\n",
            "125/125 - 15s - loss: 0.4649 - accuracy: 0.7812 - val_loss: 0.4811 - val_accuracy: 0.7760 - 15s/epoch - 123ms/step\n",
            "Epoch 3/3\n",
            "125/125 - 17s - loss: 0.3866 - accuracy: 0.8328 - val_loss: 0.4925 - val_accuracy: 0.7670 - 17s/epoch - 137ms/step\n"
          ]
        },
        {
          "output_type": "execute_result",
          "data": {
            "text/plain": [
              "<keras.src.callbacks.History at 0x795a2dd7a590>"
            ]
          },
          "metadata": {},
          "execution_count": 12
        }
      ]
    },
    {
      "cell_type": "markdown",
      "source": [
        "## Using Simple RNN"
      ],
      "metadata": {
        "id": "iPAd9A-aJ-oN"
      }
    },
    {
      "cell_type": "code",
      "source": [
        "model = Sequential()\n",
        "model.add(Embedding(input_dim=10000, output_dim=2, input_length=50))\n",
        "model.add(SimpleRNN(32,return_sequences=False))\n",
        "model.add(Dense(1, activation='sigmoid'))\n",
        "model.summary()"
      ],
      "metadata": {
        "colab": {
          "base_uri": "https://localhost:8080/"
        },
        "id": "WWXhm8vP_DO-",
        "outputId": "67a28aa9-9302-42ad-d8ed-ebd2a3050ee9"
      },
      "execution_count": 8,
      "outputs": [
        {
          "output_type": "stream",
          "name": "stdout",
          "text": [
            "Model: \"sequential_1\"\n",
            "_________________________________________________________________\n",
            " Layer (type)                Output Shape              Param #   \n",
            "=================================================================\n",
            " embedding_1 (Embedding)     (None, 50, 2)             20000     \n",
            "                                                                 \n",
            " simple_rnn (SimpleRNN)      (None, 32)                1120      \n",
            "                                                                 \n",
            " dense_1 (Dense)             (None, 1)                 33        \n",
            "                                                                 \n",
            "=================================================================\n",
            "Total params: 21153 (82.63 KB)\n",
            "Trainable params: 21153 (82.63 KB)\n",
            "Non-trainable params: 0 (0.00 Byte)\n",
            "_________________________________________________________________\n"
          ]
        }
      ]
    },
    {
      "cell_type": "code",
      "source": [
        "model.compile(optimizer='adam', loss='binary_crossentropy', metrics=['acc'])\n",
        "history = model.fit(X_train, y_train,epochs=5,validation_data=(X_test,y_test))"
      ],
      "metadata": {
        "colab": {
          "base_uri": "https://localhost:8080/"
        },
        "id": "AGCAZ7Rm_fqH",
        "outputId": "3b6b726a-0a90-4187-fe5d-09c99ccace12"
      },
      "execution_count": 10,
      "outputs": [
        {
          "output_type": "stream",
          "name": "stdout",
          "text": [
            "Epoch 1/5\n",
            "125/125 [==============================] - 3s 12ms/step - loss: 0.6945 - acc: 0.4942 - val_loss: 0.6935 - val_acc: 0.4990\n",
            "Epoch 2/5\n",
            "125/125 [==============================] - 1s 9ms/step - loss: 0.6867 - acc: 0.5567 - val_loss: 0.6943 - val_acc: 0.4950\n",
            "Epoch 3/5\n",
            "125/125 [==============================] - 1s 9ms/step - loss: 0.6753 - acc: 0.5775 - val_loss: 0.7004 - val_acc: 0.5080\n",
            "Epoch 4/5\n",
            "125/125 [==============================] - 1s 9ms/step - loss: 0.6604 - acc: 0.6080 - val_loss: 0.6993 - val_acc: 0.5160\n",
            "Epoch 5/5\n",
            "125/125 [==============================] - 1s 9ms/step - loss: 0.6276 - acc: 0.6595 - val_loss: 0.6929 - val_acc: 0.5390\n"
          ]
        }
      ]
    },
    {
      "cell_type": "code",
      "source": [
        "loss, accuracy = model.evaluate(X_test, y_test)\n",
        "print(\"Test Accuracy:\", accuracy)"
      ],
      "metadata": {
        "id": "jAQETwiZikEY",
        "colab": {
          "base_uri": "https://localhost:8080/"
        },
        "outputId": "d36a7c51-b4b2-4b41-92df-67521163838a"
      },
      "execution_count": 13,
      "outputs": [
        {
          "output_type": "stream",
          "name": "stdout",
          "text": [
            "32/32 [==============================] - 1s 17ms/step - loss: 0.4925 - accuracy: 0.7670\n",
            "Test Accuracy: 0.7670000195503235\n"
          ]
        }
      ]
    },
    {
      "cell_type": "code",
      "source": [
        "def predict_sentiment(sentence):\n",
        "    sequence = tokenizer.texts_to_sequences([sentence])\n",
        "    padded_sequence = pad_sequences(sequence, maxlen=maxlen)\n",
        "    prediction = model.predict(padded_sequence)[0][0]\n",
        "    if prediction >= 0.5:\n",
        "        sentiment = \"Positive\"\n",
        "    else:\n",
        "        sentiment = \"Negative\"\n",
        "    return sentiment\n",
        "\n",
        "# Example usage\n",
        "sentence = \"Mohan is good boy!\"\n",
        "predicted_sentiment = predict_sentiment(sentence)\n",
        "print(\"Predicted Sentiment:\", predicted_sentiment)\n"
      ],
      "metadata": {
        "colab": {
          "base_uri": "https://localhost:8080/"
        },
        "id": "LkgZWCtN9m2x",
        "outputId": "f9dff1c0-ae69-4522-e0d1-2eafb32031f2"
      },
      "execution_count": 14,
      "outputs": [
        {
          "output_type": "stream",
          "name": "stdout",
          "text": [
            "1/1 [==============================] - 0s 287ms/step\n",
            "Predicted Sentiment: Positive\n"
          ]
        }
      ]
    }
  ]
}